{
  "cells": [
    {
      "cell_type": "markdown",
      "metadata": {
        "id": "w-YWJrU0lgWw"
      },
      "source": [
        "# Problem Statement\n",
        "\n",
        "The purpose of this project is to develop a model that can answer natural language queries about famous people. Further, the project should allow for the source content to be continually updated externally without requiring the model to be retrained.\n",
        "\n",
        "Specifically, the model is based on the **Wikipedia Biography** pages. Each person has different rows of information pertaining to their notable accomplishments and details about their life. There are a large number of types of information that can appear as rows in the biography tables, however they are relatively uniform. The keys of the rows will be referred to as \"relations\".\n",
        "\n",
        "For example Alexander Hamilton has information about the President he worked for as Secretary of State, birth date, date of death, parents' names, etc.\n",
        "\n",
        "The model should be able to correctly answer natural language variations of questions such as:\n",
        "\n",
        "When was Alexander Hamilton born?\n",
        "\n",
        "What is the birth date of Alexander Hamilton?\n",
        "\n",
        "When is Alexander Hamilton's birthday?"
      ]
    },
    {
      "cell_type": "markdown",
      "metadata": {
        "id": "yhZzhjGaTj9P"
      },
      "source": [
        "# Introduction\n",
        "\n",
        "Key-Value Memory Networks (KVMemNets) are a type of neural architecture designed to enhance a model’s ability to store and retrieve facts from an external memory. They're particularly useful in reasoning tasks that require looking up information and making connections between entities or events.\n",
        "\n",
        "Memory networks learn to access external memory stores (a database or, in the case of this assignment, a dictionary). Key-Value Memory Networks specifically assume that the external memory store is organized as a dictionary with keys and values. In theory, memory networks are useful when one wants a neural network to be able to know a lot of information but we don't want to try to encode that information directly into the parameters of the network. This means information can be changed in the external memory database without retraining the neural network.\n",
        "\n",
        "For example, given a question like “Who is the CEO of Microsoft?”, the model retrieves:\n",
        "\n",
        "Keys: Natural language variations of facts (e.g., \"Microsoft Chief Executive Officer\")\n",
        "\n",
        "Values: Specific answers (e.g., \"Satya Nadella\")\n",
        "\n",
        "A key-value memory network learns an embedding such that the question has a high **cosine similarity** to a particular key in the external dictionary. Because there are many keys that need to be matched against, key-value memory networks implement an **attention-scoring** mechanism to select a key. Because attention is a probabilistic score, the key-value memory network retrieves a sum of embeddings weighted according to the attention score. This weighted embedding is then compared to values using a second attention-scoring mechanism. The value with the highest cosine similarity can then be retrieved and returned as the answer.\n",
        "\n",
        "Memory networks were an important part of the evolution of question-answering systems that have been eclipsed by transformers. However, the attention mechanism in a key-value memory network is very similar to the self-attention inside a transformer, so implementing a key-value memory network is a really great way to experiment and learn about self-attention without the added complexity of transformers.\n",
        "\n",
        "Key-value memory networks are described in this [paper](https://arxiv.org/abs/1606.03126)."
      ]
    },
    {
      "cell_type": "markdown",
      "metadata": {
        "id": "XLQP14bxNXDx"
      },
      "source": [
        "# Imports\n",
        "\n"
      ]
    },
    {
      "cell_type": "code",
      "execution_count": null,
      "metadata": {
        "id": "JfnqkHKkITC3"
      },
      "outputs": [],
      "source": [
        "import torch\n",
        "import torch.nn as nn\n",
        "from torch import optim\n",
        "import torch.nn.functional as F\n",
        "import re\n",
        "import os\n",
        "import json\n",
        "import random\n",
        "import numpy as np\n",
        "import pickle\n",
        "from tqdm import tqdm\n",
        "import nltk\n",
        "from nltk.corpus import stopwords\n",
        "import matplotlib.pyplot as plt\n",
        "from google.colab import files\n",
        "import datetime\n"
      ]
    },
    {
      "cell_type": "code",
      "execution_count": null,
      "metadata": {
        "id": "AviW7dfn6pUi"
      },
      "outputs": [],
      "source": [
        "device = 'cuda' if torch.cuda.is_available() else 'cpu'\n",
        "device"
      ]
    },
    {
      "cell_type": "markdown",
      "source": [
        "Unidecode is useful for getting rid of issues that arise from unicode. It eliminates a lot of edge cases that come up with unicode."
      ],
      "metadata": {
        "id": "fQM96JBsVHwF"
      }
    },
    {
      "cell_type": "code",
      "execution_count": null,
      "metadata": {
        "id": "EYuVdhWfAcGQ"
      },
      "outputs": [],
      "source": [
        "!pip install unidecode"
      ]
    },
    {
      "cell_type": "code",
      "execution_count": null,
      "metadata": {
        "id": "3E_fVmV2_8ub"
      },
      "outputs": [],
      "source": [
        "import unidecode"
      ]
    },
    {
      "cell_type": "markdown",
      "metadata": {
        "id": "p_bDmt5iSD_j"
      },
      "source": [
        "To have a reduced vocabulary, an unknown \"unk\" token is created and added to the vocabulary. The token index in the vocabulary and `UNK_ID` must match."
      ]
    },
    {
      "cell_type": "code",
      "execution_count": null,
      "metadata": {
        "id": "DDHhoxzyAByu"
      },
      "outputs": [],
      "source": [
        "UNK = 'unk'\n",
        "UNK_ID = '0'"
      ]
    },
    {
      "cell_type": "markdown",
      "metadata": {
        "id": "Sl6J8BwVpHCw"
      },
      "source": [
        "# Utilities"
      ]
    },
    {
      "cell_type": "markdown",
      "metadata": {
        "id": "4KF3VeFoSenc"
      },
      "source": [
        "Stem words"
      ]
    },
    {
      "cell_type": "code",
      "execution_count": null,
      "metadata": {
        "id": "CPwG_8VrNUop"
      },
      "outputs": [],
      "source": [
        "# Stemming the text\n",
        "def simple_stemmer(text):\n",
        "    ps=nltk.porter.PorterStemmer()\n",
        "    text= [ps.stem(word) for word in text]\n",
        "    return text"
      ]
    },
    {
      "cell_type": "markdown",
      "metadata": {
        "id": "mDg9vUiDShG-"
      },
      "source": [
        "Simple tokenizer that only keeps letters and numbers."
      ]
    },
    {
      "cell_type": "code",
      "execution_count": null,
      "metadata": {
        "id": "eEofSDrQ9fg_"
      },
      "outputs": [],
      "source": [
        "def tokenize(line):\n",
        "    line = re.sub(r'[^a-zA-Z0-9]', ' ', unidecode.unidecode(line)) # remove punctuation\n",
        "    line = line.lower().split()  # lower case\n",
        "    return line"
      ]
    },
    {
      "cell_type": "markdown",
      "metadata": {
        "id": "IH2QW9FjSrJh"
      },
      "source": [
        "A standard vocabulary object class"
      ]
    },
    {
      "cell_type": "code",
      "execution_count": null,
      "metadata": {
        "id": "25siAXsXOJj9"
      },
      "outputs": [],
      "source": [
        "class Vocab:\n",
        "    def __init__(self, name = 'vocab'):\n",
        "        self.name = name\n",
        "        self._word2index = {}\n",
        "        self._word2count = {}\n",
        "        self._index2word = {}\n",
        "        self._n_words = 0\n",
        "\n",
        "    def get_words(self):\n",
        "      return list(self._word2count.keys())\n",
        "\n",
        "    def num_words(self):\n",
        "      return self._n_words\n",
        "\n",
        "    def word2index(self, word):\n",
        "      return self._word2index[word]\n",
        "\n",
        "    def index2word(self, word):\n",
        "      return self._index2word[word]\n",
        "\n",
        "    def word2count(self, word):\n",
        "      return self._word2count[word]\n",
        "\n",
        "    def add_sentence(self, sentence):\n",
        "        for word in tokenize(sentence):\n",
        "            self.add_word(word)\n",
        "\n",
        "    def add_word(self, word):\n",
        "        if word not in self._word2index:\n",
        "            self._word2index[word] = self._n_words\n",
        "            self._word2count[word] = 1\n",
        "            self._index2word[self._n_words] = word\n",
        "            self._n_words += 1\n",
        "        else:\n",
        "            self._word2count[word] += 1"
      ]
    },
    {
      "cell_type": "markdown",
      "metadata": {
        "id": "esAT3lG1S5cV"
      },
      "source": [
        "Make a bag of words from a sentence, given a vocabulary. Can return a bag of word counts or a a bag of word presences."
      ]
    },
    {
      "cell_type": "code",
      "execution_count": null,
      "metadata": {
        "id": "oKJP2y8g-TFE"
      },
      "outputs": [],
      "source": [
        "def multihot(s, vocab, preserve_counts = False):\n",
        "  tokens = np.array([vocab.word2index(t) for t in tokenize(s)])\n",
        "  mhot = np.zeros((tokens.size, vocab.num_words()))\n",
        "  mhot[np.arange(tokens.size), tokens] = 1\n",
        "  if preserve_counts:\n",
        "    return mhot.sum(0)\n",
        "  else:\n",
        "    return mhot.sum(0) >= 1\n"
      ]
    },
    {
      "cell_type": "markdown",
      "metadata": {
        "id": "4w8BflMUTLW_"
      },
      "source": [
        "If using a reduced vocabulary, use this to replace out-of-vocab words. If using it, merge it with `multihot` above to avoid tokenizing twice."
      ]
    },
    {
      "cell_type": "code",
      "execution_count": null,
      "metadata": {
        "id": "LfvAfjEl7Z6j"
      },
      "outputs": [],
      "source": [
        "def unkit(s, vocab):\n",
        "  return ' '.join(list(map(lambda x: UNK if x not in vocab._word2index else x, tokenize(s))))"
      ]
    },
    {
      "cell_type": "markdown",
      "metadata": {
        "id": "YHZm-bAanrrf"
      },
      "source": [
        "# Download and Process Data"
      ]
    },
    {
      "cell_type": "markdown",
      "metadata": {
        "id": "u-L61V7tVPok"
      },
      "source": [
        "The code below will download the dataset and process it to create two things:\n",
        "\n",
        "- `DB`: a hash table that map titles of biography wikipedia articles to table information. The table information is represented as a nested hash table containing relations as keys, and associated values. For example, `DB['alexander hamilton'] = {'party': 'federalist',\n",
        " 'spouse': 'elizabeth schuyler', ...}`\n",
        "\n",
        "- `VOCAB`: A vocabulary object that maps words to tokens and vice versa."
      ]
    },
    {
      "cell_type": "code",
      "execution_count": null,
      "metadata": {
        "id": "PYzcdAR2ntvm"
      },
      "outputs": [],
      "source": [
        "!git clone https://github.com/rlebret/wikipedia-biography-dataset.git"
      ]
    },
    {
      "cell_type": "code",
      "execution_count": null,
      "metadata": {
        "id": "RZEHbtftn17L"
      },
      "outputs": [],
      "source": [
        "!cat wikipedia-biography-dataset/wikipedia-biography-dataset.z?? > tmp.zip\n",
        "!unzip -o tmp.zip\n",
        "!rm tmp.zip"
      ]
    },
    {
      "cell_type": "markdown",
      "metadata": {
        "id": "1rRYqmfSTcw0"
      },
      "source": [
        "Get all the wikipedia titles."
      ]
    },
    {
      "cell_type": "code",
      "execution_count": null,
      "metadata": {
        "id": "mdVrlCf-4TAq"
      },
      "outputs": [],
      "source": [
        "train_titles = []\n",
        "with open(\"wikipedia-biography-dataset/train/train.title\", \"r\") as file:\n",
        "  for line in file:\n",
        "    train_titles.append(line.rstrip())"
      ]
    },
    {
      "cell_type": "markdown",
      "metadata": {
        "id": "YOkCic0NTeuS"
      },
      "source": [
        "Boxes contain all the information, with each line corresponding to a title in `titles`."
      ]
    },
    {
      "cell_type": "code",
      "execution_count": null,
      "metadata": {
        "id": "C80pu63x4o-Y"
      },
      "outputs": [],
      "source": [
        "train_boxes = []\n",
        "with open(\"wikipedia-biography-dataset/train/train.box\", \"r\") as file:\n",
        "  for line in file:\n",
        "    train_boxes.append(line.rstrip())"
      ]
    },
    {
      "cell_type": "markdown",
      "metadata": {
        "id": "63cxS1DWTk0h"
      },
      "source": [
        "This will make the DB object, a dictionary of dictionaries for each wikipedia title, which is more or less the same as names. This function only keeps politicians (containing the \"office\" key term) and strips out information about images. It can be improved in many ways."
      ]
    },
    {
      "cell_type": "code",
      "execution_count": null,
      "metadata": {
        "id": "Pr97KJLc4v7v"
      },
      "outputs": [],
      "source": [
        "# Make a dictionary of dictionaries\n",
        "def make_db(titles, boxes):\n",
        "  db = {} # The DB\n",
        "  # Iterate through titles\n",
        "  for i in tqdm(range(len(titles))):\n",
        "    box = boxes[i] # Grab the corresponding box information\n",
        "    d  = {} # Inner dictionary\n",
        "    # Build a dict for the ith entry\n",
        "    # grab each key:value pair\n",
        "    for pair in re.findall(r'([a-zA-Z_]+)[0-9]*\\:([\\w\\d]+)', box):\n",
        "      key, value = pair\n",
        "      # Do a bit of cleaning\n",
        "      key = key.strip()\n",
        "      value = value.strip()\n",
        "      # If the key contains the word image, we probably don't want to keep it\n",
        "      if 'image' not in key:\n",
        "        # The regex maintains underscores, strip those off\n",
        "        if key[-1] == '_':\n",
        "          key = key[:-1]\n",
        "        # Make a new entry in inner dictionary if we don't have one\n",
        "        if key not in d:\n",
        "          d[key] = value\n",
        "        # Keys with compound values are split up, which is annoying, so put them back together\n",
        "        else:\n",
        "          d[key] += ' ' + value\n",
        "    # If it has an office key, keep it.\n",
        "    if 'office' in d:\n",
        "      db[titles[i]] = d\n",
        "  return db"
      ]
    },
    {
      "cell_type": "markdown",
      "metadata": {
        "id": "S9hB1o63U45e"
      },
      "source": [
        "Build the vocab from the DB. Convert the whole thing into a string, tokenize it, and feed the surviving words into the vocab."
      ]
    },
    {
      "cell_type": "code",
      "execution_count": null,
      "metadata": {
        "id": "p13O5dcVvdZu"
      },
      "outputs": [],
      "source": [
        "def make_vocab(DB):\n",
        "  # Make the vocab object\n",
        "  vocab = Vocab()\n",
        "  # Tokenize the data by converting the entire DB into a string\n",
        "  tokens = tokenize(str(DB))\n",
        "  # Iterate through all the tokens (tqdm provides a progress bar)\n",
        "  for t in tqdm(tokens):\n",
        "    vocab.add_word(t)\n",
        "  return vocab"
      ]
    },
    {
      "cell_type": "markdown",
      "metadata": {
        "id": "Zkjf7mbAVA9H"
      },
      "source": [
        "If rare words are discarded, this will rebuild the vocab."
      ]
    },
    {
      "cell_type": "code",
      "execution_count": null,
      "metadata": {
        "id": "448Ww-BFtBL3"
      },
      "outputs": [],
      "source": [
        "def reduce_vocab(vocab, min_word_occurrence = 2):\n",
        "  # make a new vocab\n",
        "  vocab2 = Vocab(\"top\")\n",
        "  # Add the UNK token\n",
        "  vocab2.add_word(UNK)\n",
        "  # Iterate through vocabulary\n",
        "  for w in list(vocab._word2count.keys()):\n",
        "    count = vocab._word2count[w]\n",
        "    idx = vocab._word2index[w]\n",
        "    # If the word count passes threshold, add it to the new vocabulary object\n",
        "    if count >= min_word_occurrence:\n",
        "      vocab2.add_word(w)\n",
        "      vocab2._word2count[w] = count\n",
        "  # Return the new vocabulary object\n",
        "  return vocab2"
      ]
    },
    {
      "cell_type": "markdown",
      "metadata": {
        "id": "iVS602YPVE9N"
      },
      "source": [
        "Make the DB"
      ]
    },
    {
      "cell_type": "code",
      "execution_count": null,
      "metadata": {
        "id": "cio_ZwncrGf0"
      },
      "outputs": [],
      "source": [
        "DB = make_db(train_titles, train_boxes)"
      ]
    },
    {
      "cell_type": "markdown",
      "metadata": {
        "id": "ETLqtWtyVKLE"
      },
      "source": [
        "Make the VOCAB"
      ]
    },
    {
      "cell_type": "code",
      "execution_count": null,
      "metadata": {
        "id": "lc7oi3p54SOb"
      },
      "outputs": [],
      "source": [
        "VOCAB = make_vocab(DB)\n",
        "print(VOCAB.num_words())"
      ]
    },
    {
      "cell_type": "markdown",
      "metadata": {
        "id": "Y9AP3Dcle5VC"
      },
      "source": [
        "## Save Processed Data"
      ]
    },
    {
      "cell_type": "markdown",
      "metadata": {
        "id": "QiTQxguSXEuq"
      },
      "source": [
        "Save the processed dataset to Google Drive."
      ]
    },
    {
      "cell_type": "code",
      "source": [
        "from google.colab import drive\n",
        "drive.mount('/content/drive')"
      ],
      "metadata": {
        "id": "6DNxueU-gpz_"
      },
      "execution_count": null,
      "outputs": []
    },
    {
      "cell_type": "code",
      "execution_count": null,
      "metadata": {
        "id": "DwagcDU_Ut2Q"
      },
      "outputs": [],
      "source": [
        "with open(\"drive/MyDrive/data\", \"wb\") as f:\n",
        "  pickle.dump(DB, f, protocol=None, fix_imports=True, buffer_callback=None)"
      ]
    },
    {
      "cell_type": "code",
      "execution_count": null,
      "metadata": {
        "id": "WS6a8EtX_h0F"
      },
      "outputs": [],
      "source": [
        "with open('drive/MyDrive/vocab', 'wb') as f:\n",
        "    pickle.dump(VOCAB, f, protocol=None, fix_imports=True, buffer_callback=None)"
      ]
    },
    {
      "cell_type": "markdown",
      "metadata": {
        "id": "lzlH6IKhe_Qa"
      },
      "source": [
        "## Load processed data"
      ]
    },
    {
      "cell_type": "code",
      "execution_count": null,
      "metadata": {
        "id": "ZCaiBhdvCa_C"
      },
      "outputs": [],
      "source": [
        "with open(\"drive/MyDrive/vocab\", \"rb\") as f:\n",
        "  VOCAB = pickle.load(f)"
      ]
    },
    {
      "cell_type": "code",
      "execution_count": null,
      "metadata": {
        "id": "IinOyL_4C1Hx"
      },
      "outputs": [],
      "source": [
        "with open(\"drive/MyDrive/data\", \"rb\") as f:\n",
        "  DB = pickle.load(f)"
      ]
    },
    {
      "cell_type": "markdown",
      "source": [
        "We need to generate questions for each type of relation. There a number of ways to do this.\n",
        "\n",
        "The simplest is to just assume that a question is the name of a person and a relation, e.g., \"Alexander Hamilton birth date\". Another way would be to create templates for each type of relation. For example the \"birth date\" relation would have the following template: \"When was [name] born?\", filling in the [name].\n",
        "\n",
        "In this implementation, Chat GPT was utilized by providing the list of relations we're interested in and asked to generate templates, which worked quite well."
      ],
      "metadata": {
        "id": "3LUlzbykstvk"
      }
    },
    {
      "cell_type": "code",
      "source": [
        "relations_list = [\n",
        "    'office',\n",
        "    'article_title',\n",
        "    'name',\n",
        "    'term_start',\n",
        "    'birth_date',\n",
        "    'birth_place',\n",
        "    'term_end',\n",
        "    'predecessor',\n",
        "    'party',\n",
        "    'successor',\n",
        "    'alma_mater',\n",
        "    'death_date',\n",
        "    'spouse',\n",
        "    'death_place',\n",
        "    'nationality',\n",
        "    'religion',\n",
        "    'children',\n",
        "    'occupation',\n",
        "    'profession',\n",
        "    'residence'\n",
        "]\n",
        "templates = {\n",
        "    \"office\": [\n",
        "        \"What office does XYZ hold\",\n",
        "        \"Which office is XYZ in\",\n",
        "        \"Do you know what office XYZ holds\",\n",
        "        \"Can you tell me the office of XYZ\",\n",
        "        \"What is the official position of XYZ\"\n",
        "    ],\n",
        "    \"article_title\": [\n",
        "        \"What is the title of XYZ article\",\n",
        "        \"Do you know the article title of XYZ\",\n",
        "        \"Can you tell me XYZ article title\",\n",
        "        \"What is the name of XYZs article\",\n",
        "        \"What is XYZs article called\"\n",
        "    ],\n",
        "    \"name\": [\n",
        "        \"What is XYZ name\",\n",
        "        \"Do you know XYZ name\",\n",
        "        \"Can you tell me the name of XYZ\",\n",
        "        \"What is the full name of XYZ\",\n",
        "        \"What is XYZ called\"\n",
        "    ],\n",
        "    \"term_start\": [\n",
        "        \"When did XYZ term start\",\n",
        "        \"When did XYZ begin their term\",\n",
        "        \"Do you know when XYZ term started\",\n",
        "        \"When did XYZ take office\",\n",
        "        \"When did XYZ term officially begin\"\n",
        "    ],\n",
        "    \"birth_date\": [\n",
        "        \"When was XYZ born\",\n",
        "        \"What is XYZ birth date\",\n",
        "        \"When is XYZ birthday\",\n",
        "        \"Do you know when XYZ was born\",\n",
        "        \"When did XYZ come into the world\"\n",
        "    ],\n",
        "    \"birth_place\": [\n",
        "        \"Where was XYZ born\",\n",
        "        \"What is XYZ birthplace\",\n",
        "        \"Where did XYZ come into the world\",\n",
        "        \"Do you know where XYZ was born\",\n",
        "        \"Where is XYZ birth location\"\n",
        "    ],\n",
        "    \"term_end\": [\n",
        "        \"When did XYZ term end\",\n",
        "        \"When did XYZ finish their term\",\n",
        "        \"Do you know when XYZ term ended\",\n",
        "        \"When was XYZ term over\",\n",
        "        \"When did XYZ term officially end\"\n",
        "    ],\n",
        "    \"predecessor\": [\n",
        "        \"Who was in office before XYZ\",\n",
        "        \"Who did XYZ replace\",\n",
        "        \"Do you know who XYZ predecessor was\",\n",
        "        \"Who was XYZ predecessor\",\n",
        "        \"Who held the position before XYZ\"\n",
        "    ],\n",
        "    \"party\": [\n",
        "        \"What party does XYZ belong to\",\n",
        "        \"Which party is XYZ a member of\",\n",
        "        \"What is XYZ political party\",\n",
        "        \"Do you know which party XYZ is with\",\n",
        "        \"Which political party is XYZ affiliated with\"\n",
        "    ],\n",
        "    \"successor\": [\n",
        "        \"Who succeeded XYZ\",\n",
        "        \"Who took over after XYZ\",\n",
        "        \"Do you know who XYZ successor is\",\n",
        "        \"Who followed XYZ in office\",\n",
        "        \"Who is XYZ successor\"\n",
        "    ],\n",
        "    \"alma_mater\": [\n",
        "        \"Where did XYZ go to school\",\n",
        "        \"What is XYZ alma mater\",\n",
        "        \"Do you know which school XYZ attended\",\n",
        "        \"Where did XYZ get their degree\",\n",
        "        \"Which college did XYZ go to\"\n",
        "    ],\n",
        "    \"death_date\": [\n",
        "        \"When did XYZ die\",\n",
        "        \"What is XYZ death date\",\n",
        "        \"When did XYZ pass away\",\n",
        "        \"Do you know when XYZ died\",\n",
        "        \"When did XYZ life end\"\n",
        "    ],\n",
        "    \"spouse\": [\n",
        "        \"Who is XYZ spouse\",\n",
        "        \"Is XYZ married If so to whom\",\n",
        "        \"Do you know who XYZ spouse is\",\n",
        "        \"Who is XYZ married to\",\n",
        "        \"Who is XYZ partner\"\n",
        "    ],\n",
        "    \"death_place\": [\n",
        "        \"Where did XYZ die\",\n",
        "        \"What is XYZ place of death\",\n",
        "        \"Do you know where XYZ died\",\n",
        "        \"Where did XYZ pass away\",\n",
        "        \"What is XYZ death location\"\n",
        "    ],\n",
        "    \"nationality\": [\n",
        "        \"What is XYZ nationality\",\n",
        "        \"Which country is XYZ from\",\n",
        "        \"Do you know XYZ nationality\",\n",
        "        \"Where is XYZ from\",\n",
        "        \"What country does XYZ belong to\"\n",
        "    ],\n",
        "    \"religion\": [\n",
        "        \"What is XYZ religion\",\n",
        "        \"Which religion does XYZ follow\",\n",
        "        \"Do you know XYZ religion\",\n",
        "        \"What faith does XYZ practice\",\n",
        "        \"What is the religion of XYZ\"\n",
        "    ],\n",
        "    \"children\": [\n",
        "        \"Does XYZ have children\",\n",
        "        \"Who are XYZ children\",\n",
        "        \"Do you know about XYZ children\",\n",
        "        \"Can you tell me about XYZ children\",\n",
        "        \"How many children does XYZ have\"\n",
        "    ],\n",
        "    \"occupation\": [\n",
        "        \"What does XYZ do for a living\",\n",
        "        \"What is XYZ occupation\",\n",
        "        \"Do you know what XYZ job is\",\n",
        "        \"Can you tell me XYZ occupation\",\n",
        "        \"What work does XYZ do\"\n",
        "    ],\n",
        "    \"profession\": [\n",
        "        \"What is XYZ profession\",\n",
        "        \"What does XYZ do professionally\",\n",
        "        \"Do you know XYZ profession\",\n",
        "        \"Can you tell me about XYZ profession\",\n",
        "        \"What is the professional role of XYZ\"\n",
        "    ],\n",
        "    \"residence\": [\n",
        "        \"Where does XYZ live\",\n",
        "        \"What is XYZ residence\",\n",
        "        \"Do you know where XYZ lives\",\n",
        "        \"Can you tell me about XYZ home\",\n",
        "        \"Where is XYZ residence\"\n",
        "    ]\n",
        "}\n"
      ],
      "metadata": {
        "id": "CQco4Dn9dfwW"
      },
      "execution_count": null,
      "outputs": []
    },
    {
      "cell_type": "code",
      "source": [
        "# create a reduced version of the vocabulary with a minimum of 2 occurrences.\n",
        "vocab_reduced = reduce_vocab(VOCAB, 2)"
      ],
      "metadata": {
        "id": "-smEJtc9f3W_"
      },
      "execution_count": null,
      "outputs": []
    },
    {
      "cell_type": "code",
      "source": [
        "# Uses the reduced vocabulary to find an input word\n",
        "def get_reduced_string(s):\n",
        "  tokens = tokenize(s)\n",
        "\n",
        "  out_list = []\n",
        "  for t in tokens:\n",
        "      if t in vocab_reduced._word2index:\n",
        "          out_list.append(t)\n",
        "\n",
        "  if len(out_list) > 0:\n",
        "      return ' '.join(out_list)\n",
        "  else:\n",
        "      return None"
      ],
      "metadata": {
        "id": "L_AXmOD8gRGM"
      },
      "execution_count": null,
      "outputs": []
    },
    {
      "cell_type": "code",
      "source": [
        "# Reduce DB based on the reduced vocabulary\n",
        "# Keep only relations and values that are in the reduced vocab\n",
        "db2 = {}\n",
        "for key, value in DB.items():\n",
        "    person_key = get_reduced_string(key)\n",
        "    if person_key is None:\n",
        "        continue\n",
        "\n",
        "    # person = {person_key: {}}\n",
        "    relations = {}\n",
        "    for relation, val in value.items():\n",
        "        if relation not in templates:\n",
        "            continue\n",
        "        red_ = get_reduced_string(val)\n",
        "        if red_ is not None:\n",
        "            relations[relation] = red_\n",
        "    if len(relations) > 0:\n",
        "        db2[person_key] = relations\n"
      ],
      "metadata": {
        "id": "U5IgsqC0gxEQ"
      },
      "execution_count": null,
      "outputs": []
    },
    {
      "cell_type": "markdown",
      "metadata": {
        "id": "vcZcFUxrfCnB"
      },
      "source": [
        "## Data example"
      ]
    },
    {
      "cell_type": "markdown",
      "metadata": {
        "id": "jKKoOuLCVYxd"
      },
      "source": [
        "Get to know your data."
      ]
    },
    {
      "cell_type": "code",
      "execution_count": null,
      "metadata": {
        "id": "dbLkOyB2pp_M",
        "colab": {
          "base_uri": "https://localhost:8080/"
        },
        "outputId": "7b292f17-17c4-454b-95d2-ad9b23b5ede3"
      },
      "outputs": [
        {
          "output_type": "execute_result",
          "data": {
            "text/plain": [
              "{'name': 'alexander hamilton',\n",
              " 'office': '1st united states secretary of the treasury senior officer of the army delegate to the congress of the confederation from new york',\n",
              " 'term_start': 'september 11 1789 december 14 1799 november 3 1788 november 4 1782',\n",
              " 'term_end': 'january 31 1795 june 15 1800 march 2 1789 june 21 1783',\n",
              " 'predecessor': 'position established george washington egbert benson seat established',\n",
              " 'successor': 'oliver wolcott jr james wilkinson seat abolished seat abolished',\n",
              " 'birth_date': '11 january 1755',\n",
              " 'birth_place': 'charlestown nevis british west indies',\n",
              " 'death_date': 'july 12 1804 aged 47 or 49',\n",
              " 'death_place': 'new york city new york u',\n",
              " 'party': 'federalist',\n",
              " 'spouse': 'elizabeth schuyler',\n",
              " 'children': 'philip angelica alexander james alexander john church william stephen eliza holly phil',\n",
              " 'alma_mater': 'kings college new york',\n",
              " 'religion': 'presbyterian episcopalian convert',\n",
              " 'article_title': 'alexander hamilton'}"
            ]
          },
          "metadata": {},
          "execution_count": 24
        }
      ],
      "source": [
        "db2[\"alexander hamilton\"]"
      ]
    },
    {
      "cell_type": "markdown",
      "metadata": {
        "id": "ITACHJTWfE5m"
      },
      "source": [
        "# Implementation of the Key-Value Memory Network"
      ]
    },
    {
      "cell_type": "markdown",
      "metadata": {
        "id": "xQqLE-fcI_43"
      },
      "source": [
        "This [paper](https://arxiv.org/abs/1606.03126) describes the key-value memory networks in detail, which is also sketched out below.\n",
        "\n",
        "A key-value memory network takes a natural language question. This question will be converted into a bag-of-words (i.e., a multihot) Call this $x$ and it is a 1D tensor of vocabulary length.\n",
        "\n",
        "![KVMemNet architecture](https://github.com/markriedl/kvmemnet-assignment/blob/32479dd1e88a9f8dfc72f11ccb8e9e0e1f78905f/kvmemnet-inside.png?raw=true)\n",
        "\n",
        "The KVMemNet will contain a linear layer (or embedding layer) that will produce a 1D embedding of the question $q=A(x)$.\n",
        "\n",
        "The KVMemNet will also take in a stack of keys as a tensor of shape `num_keys x vocab_size`. Each row is embedded using the same embedding, $k=A(keys)$, producing a tensor of shape `num_keys x embed_dim`. How this stack of keys is chosen will be discussed below.\n",
        "\n",
        "The KVMemNet will take in a third input, a stack of values associated with the stack of keys. This will also be of shape `num_values x vocab_size`. Each row is embedded using the same embedding, $v=A(values)$, producing a tensor of shape `num_keys x embed_dim`.\n",
        "\n",
        "The KVMemNet will also contain a second linear embedding layer, $B$. More on this later.\n",
        "\n",
        "Once we have `q`, `k`, and `v` embeddings, the next step is to use `q` and `k` to compute attention scores that can be applied against `v`. $A$ can be thought of as learning how to make questions and the keys that should match against values that have received the same treatment.\n",
        "\n",
        "The attention scores `p` are computed by taking the inner-product (`torch.inner()`) between `q` and `k`. The result will be a 1D tensor with `num_keys` length. Use softmax so that `p` contains scores between 1.0 and 0.0.\n",
        "\n",
        "Next apply the `p` attention scores against `v` to apply a weight against each value in the stack of values. One should be highly weighted and the rest less weighted. Sum all the weighted values up to create a 1D tensor `o` of feature weights of length `embed_dim`. `p` can be thought of as how much of each value gets selected. Then they all get combined together and the feature weights are proportional to how much each value was attended to. The `torch.matmul()` can do the multiplication and summing in one step.\n",
        "\n",
        "The KVMemNet forward function should return this tensor of feature weights `o`.\n",
        "\n",
        "A quick note on `k` and `v`. We can't send the entire set of keys and values in our database through the network's forward function. Instead there should be a selection mechanism that selects just a subset of the database. This subset should contain the best key for the question $x$ to match against, and its corresponding value. A shallow selection process is assumed that can narrow down the key-value pairs to a relatively small set, one of which will be best. For example, if the question involves \"Alexander Hamilton\", we can reasonably guess that the best key-value pair is in the part of the database associated with the named person.\n",
        "\n",
        "We are not done though. What about our linear layer $B$? Suppose variable `Y` contains our entire set of values in our databse as bags of words. $B$ is going to be used to embed our entire set of database values $y=B(Y)$. $B$ can be thought of as learning how to make all the values look like the feature weights output by the model such that the highest cosine similarity corresponds to the correct value taken from *all* values in the database.\n",
        "\n",
        "$B$ should live inside the KVMemNet object so that its parameters become trainable, but we do not use $B$ in the KVMemNet's forward function. $B$ will get used to prepare the stack of all values in the database for training. It will bet used in the training loop but outside of the forward function. This is a bit unusual, but necessary to figure out the correct target (the true index of the best value to match against) for training.\n",
        "\n",
        "The above explantion only implements *single-hop* retrieval. *multi-hop* retrieval allows the results of one retrieval to inform a second (and third and so on) to get the right retrieval. This would be used in the case where the answer cannot be inferred directly from the question in a single retrieval, such as \"What was the founding date of the country that Alexander Hamilton was born in?\". To implement multi-hop retrieval, the KVMemNet will have additional linear layers $R_1...R_n$. Each $R_{i}$ will do a linear transform on `q` then attention will score and retrieve values as feature weights `o`. This will be sent to the next $R_{i+1}$ and so on until the hops are complete. This final `o` will be returned."
      ]
    },
    {
      "cell_type": "code",
      "execution_count": null,
      "metadata": {
        "id": "9zex3XZzw0-l"
      },
      "outputs": [],
      "source": [
        "class KVMemNet(nn.Module):\n",
        "  def __init__(self, vocab_size, embed_dim):\n",
        "    super(KVMemNet, self).__init__()\n",
        "    self.vocab_size = vocab_size\n",
        "    self.embed_dim = embed_dim\n",
        "    self.linear_a = nn.Linear(vocab_size, embed_dim)\n",
        "    self.linear_b = nn.Linear(vocab_size, embed_dim)\n",
        "    self.dropoutq = nn.Dropout(0.5)\n",
        "    self.dropoutk = nn.Dropout(0.5)\n",
        "    self.dropoutv = nn.Dropout(0.5)\n",
        "\n",
        "  def forward(self, x, keys, values):\n",
        "    output = None\n",
        "    q = self.linear_a(x)\n",
        "    k = self.linear_a(keys)\n",
        "    v = self.linear_a(values)\n",
        "\n",
        "    q = self.dropoutq(q)\n",
        "    k = self.dropoutq(k)\n",
        "    v = self.dropoutq(v)\n",
        "\n",
        "    ip = torch.inner(k, q)\n",
        "    softmax = F.softmax(ip, dim=0)\n",
        "    output = torch.matmul(softmax, v)\n",
        "\n",
        "    return output"
      ]
    },
    {
      "cell_type": "markdown",
      "metadata": {
        "id": "4slHUG5cPDtT"
      },
      "source": [
        "The following describes the steps to set up a training loop, including the training of the $B$ layer.\n",
        "\n",
        "![The KVMemNet being used in the training loop](https://github.com/markriedl/kvmemnet-assignment/blob/main/kvmemnet-outside.png?raw=true)"
      ]
    },
    {
      "cell_type": "markdown",
      "metadata": {
        "id": "nupd-Gr9P6vc"
      },
      "source": [
        "# Training"
      ]
    },
    {
      "cell_type": "markdown",
      "metadata": {
        "id": "r02Y9yvhPXy8"
      },
      "source": [
        "Only a subset of all key-value pairs should be put into the KVMemNet. We need a technique for sub-selecting from all the key-value pairs in `DB`. One option is to just use the ones that are directly associated with the person (Alexander Hamilton has 23). Some key-value pairs from another person's entries in the database are mixed in to help ensure against accidental overfitting.\n",
        "\n",
        "The final challenge in the training loop is that there may still be too many unique values in `Y` to encode and create one big tensor. We can at least use the values that were sent to the KVMemNet, along with as many other randomly selected values as can fit into the GPU's memory."
      ]
    },
    {
      "cell_type": "code",
      "source": [
        "# This function is strictly not needed as callers can simply use the global db2\n",
        "# which is the reduced db. However, this is being provided as a convenience so\n",
        "# that callers already using it do not need to change.\n",
        "def load_DB():\n",
        "    return db2\n"
      ],
      "metadata": {
        "id": "rFr-PhzTcdva"
      },
      "execution_count": null,
      "outputs": []
    },
    {
      "cell_type": "code",
      "source": [
        "# Some common functions needed for preparing data for initial training and for\n",
        "# inference in Part E\n",
        "\n",
        "# this function takes one person and extracts keys and values\n",
        "# it handles th logic of only selecting relations that are in the top 20\n",
        "# frequent list and therefore have templates defined\n",
        "def extract_keys_values(person):\n",
        "  orig_keys = []\n",
        "  person_keys = []\n",
        "  person_values = []\n",
        "  for relation in person[1].keys():\n",
        "      if templates.get(relation) is not None:\n",
        "          orig_keys.append(relation)\n",
        "          person_keys.append(\" \".join([person[0], relation]))\n",
        "          person_values.append(person[1][relation])\n",
        "\n",
        "  return orig_keys, person_keys, person_values\n",
        "\n",
        "# this function returns \"n\" random names from the database\n",
        "# also provides an option to only select the random entries\n",
        "# from the supplied keys\n",
        "def get_random_names_from_db(db, from_keys=None, n=100):\n",
        "    if from_keys is not None:\n",
        "      keys = random.sample(from_keys, n)\n",
        "    else:\n",
        "      keys = random.sample(list(db.keys()), n)\n",
        "    return [(k, db[k]) for k in keys]\n",
        "\n",
        "# this function returns keys and values for the specified\n",
        "# number of random counts;\n",
        "def get_random_keys_values(db, from_keys=None, n=2):\n",
        "  return_keys = []\n",
        "  return_values = []\n",
        "  persons = get_random_names_from_db(db, from_keys, n=n)\n",
        "  for person in persons:\n",
        "      orig_keys_, keys, values = extract_keys_values(person)\n",
        "      return_keys.extend(keys)\n",
        "      return_values.extend(values)\n",
        "\n",
        "  return return_keys, return_values\n",
        "\n",
        "# convenience function to make multihot vectors for all list elements\n",
        "def make_multihot_for_list(lst, vocab):\n",
        "    mhv_list = torch.stack([torch.tensor(multihot(x, vocab), dtype=torch.float32) for x in lst]).to(device)\n",
        "\n",
        "    return mhv_list\n",
        "\n",
        "# convenience function to make multihot vectors for q, k, v, Y and y_target\n",
        "def make_multihot_for_data(in_data, vocab):\n",
        "  data = [(\n",
        "      torch.tensor(multihot(item[0], vocab), dtype=torch.float32).to(device),\n",
        "      make_multihot_for_list(item[2], vocab), make_multihot_for_list(item[3], vocab), make_multihot_for_list(item[4], vocab)\n",
        "  ) for item in in_data]\n",
        "\n",
        "  ys = [item[1] for item in in_data]\n",
        "\n",
        "  return data, ys\n"
      ],
      "metadata": {
        "id": "QlLgjsIzZI7O"
      },
      "execution_count": null,
      "outputs": []
    },
    {
      "cell_type": "code",
      "source": [
        "# main function for preparing data for testing and testing\n",
        "def prep_data(training_size, test_size):\n",
        "\n",
        "  def test_train_split(data, test_rows):\n",
        "      return data[:-test_rows], data[-test_rows:]\n",
        "\n",
        "# this function returns an English version of data and handles tasks of\n",
        "# adding random entries to keys, values and \"Y\". It also prepares questions\n",
        "# based on pre-filled templates\n",
        "  def prepare_data_english(data, keys=None):\n",
        "    return_data = []\n",
        "    for p in range(len(data)):\n",
        "      person = data[p]\n",
        "      orig_keys, person_keys, person_values = extract_keys_values(person)\n",
        "\n",
        "      for i in range(len(orig_keys)):\n",
        "        y = i\n",
        "        random_keys, random_values = get_random_keys_values(db, from_keys=keys, n=2)\n",
        "        k = []\n",
        "        v = []\n",
        "\n",
        "        k.extend(person_keys)\n",
        "        k.extend(random_keys)\n",
        "\n",
        "        v.extend(person_values)\n",
        "        v.extend(random_values)\n",
        "\n",
        "        Y = v.copy()\n",
        "        Y_random_keys, Y_random_values = get_random_keys_values(db, from_keys=keys, n=4)\n",
        "        Y.extend(Y_random_values)\n",
        "\n",
        "        add_list_to_vocab(k)\n",
        "        add_list_to_vocab(v)\n",
        "        add_list_to_vocab(Y_random_values)\n",
        "\n",
        "        questions = templates[orig_keys[i]]\n",
        "        counter = 0\n",
        "        for question in questions:\n",
        "            counter += 1\n",
        "            if counter <= 1:\n",
        "                x = question.replace('XYZ', person[0])\n",
        "                vocab.add_sentence(x)\n",
        "                return_data.append((x, y, k, v, Y))\n",
        "            else:\n",
        "                break\n",
        "\n",
        "    return return_data\n",
        "\n",
        "  def add_list_to_vocab(lst):\n",
        "      list(map(vocab.add_sentence, lst))\n",
        "\n",
        "  def add_data_to_vocab(data):\n",
        "      for row in data:\n",
        "          vocab.add_sentence(row[0])\n",
        "          add_list_to_vocab(row[2])\n",
        "          add_list_to_vocab(row[3])\n",
        "          add_list_to_vocab(row[4])\n",
        "\n",
        "# ensure alexander hamilton is present in the training data.\n",
        "# this is because our vocabulary only consists of the words\n",
        "# we train (or test) on. So we need at least one \"known\" entry\n",
        "# in the vocabulary that we can test Part E on.\n",
        "  def get_test_train_data_english():\n",
        "      master_data = get_random_names_from_db(db, n=training_size)\n",
        "      raw_train_data, raw_test_data = test_train_split(master_data, test_size)\n",
        "\n",
        "      train_keys = [x[0] for x in raw_train_data]\n",
        "      always_present = 'alexander hamilton'\n",
        "      if always_present not in train_keys:\n",
        "        train_keys.append(always_present)\n",
        "        raw_train_data.append((always_present, db[always_present]))\n",
        "\n",
        "      train_data_english = prepare_data_english(raw_train_data, keys=train_keys)\n",
        "\n",
        "      test_keys = [x[0] for x in raw_test_data]\n",
        "      test_data_english = prepare_data_english(raw_test_data, keys=test_keys)\n",
        "\n",
        "      return train_data_english, test_data_english, train_keys, test_keys\n",
        "\n",
        "  vocab = Vocab()\n",
        "  db = load_DB()\n",
        "\n",
        "  data_english = get_test_train_data_english()\n",
        "\n",
        "  start_time = datetime.datetime.now()\n",
        "  train_mhv, train_ys = make_multihot_for_data(data_english[0], vocab)\n",
        "  end_time = datetime.datetime.now()\n",
        "  print(f'MHV complete for train data in {(end_time - start_time).seconds / 60} minutes')\n",
        "\n",
        "  test_mhv, test_ys = make_multihot_for_data(data_english[1], vocab)\n",
        "  print(f'MHV complete for test data in {(datetime.datetime.now() - end_time).seconds / 60} minutes')\n",
        "  return vocab, train_mhv, train_ys, test_mhv, test_ys, data_english[2], data_english[3]\n"
      ],
      "metadata": {
        "id": "kBNVcbEkdDmk"
      },
      "execution_count": null,
      "outputs": []
    },
    {
      "cell_type": "code",
      "source": [
        "TRAINING_DATA_SIZE = 600\n",
        "TEST_DATA_SIZE = 100\n",
        "\n",
        "vocab_, train_mhv, train_ys, test_mhv, test_ys, train_keys, test_keys = prep_data(TRAINING_DATA_SIZE, TEST_DATA_SIZE)\n",
        "\n",
        "print(f'Vocab size: {vocab_.num_words()}')\n",
        "print(f'Training size: {len(train_mhv)}')\n",
        "print(f'Testing size: {len(test_mhv)}')\n"
      ],
      "metadata": {
        "colab": {
          "base_uri": "https://localhost:8080/"
        },
        "id": "fycrQbbYmD2W",
        "outputId": "0c5fcf9c-d387-4142-a5ba-69ac77d23184"
      },
      "execution_count": null,
      "outputs": [
        {
          "output_type": "stream",
          "name": "stdout",
          "text": [
            "MHV complete for train data in 1.0 minutes\n",
            "MHV complete for test data in 0.2 minutes\n",
            "Vocab size: 5401\n",
            "Training size: 5535\n",
            "Testing size: 1126\n"
          ]
        }
      ]
    },
    {
      "cell_type": "code",
      "source": [
        "# Set up your KVMemNet, move it to the GPU, setup up optimizer (e.g., Adam), and criterion.\n",
        "EMBED_DIM = 256\n",
        "NBR_OF_EPOCHS = 100\n",
        "LEARNING_RATE = 0.0001\n",
        "\n",
        "kvmm = KVMemNet(vocab_.num_words(), EMBED_DIM)\n",
        "optimizer = optim.Adam(kvmm.parameters(), lr=LEARNING_RATE)\n",
        "criterion = nn.CrossEntropyLoss()\n",
        "kvmm = kvmm.to(device)"
      ],
      "metadata": {
        "id": "Vxo3x_FCz_zf"
      },
      "execution_count": null,
      "outputs": []
    },
    {
      "cell_type": "markdown",
      "metadata": {
        "id": "9Ug_8X-2fwYD"
      },
      "source": [
        "**Write and run a training loop, showing a loss plot**\n",
        "\n",
        "You may find it handy to also test your network on the test data periodically as it trains."
      ]
    },
    {
      "cell_type": "code",
      "execution_count": null,
      "outputs": [],
      "source": [
        "# Function to run the testing loop and return mean loss and accuracy.\n",
        "# This will be called from inside the training loop and also for a\n",
        "# final evaluation\n",
        "def run_testing(net):\n",
        "  net.eval()\n",
        "\n",
        "  losses = []\n",
        "  accuracies = []\n",
        "  total = 0\n",
        "  correct = 0\n",
        "  with torch.no_grad():\n",
        "    for i in range(len(test_mhv)):\n",
        "      output = net(test_mhv[i][0], test_mhv[i][1], test_mhv[i][2])\n",
        "      y = net.linear_b(test_mhv[i][3])\n",
        "      ip = torch.inner(y, output)\n",
        "      softmax = F.softmax(ip, dim=0)\n",
        "\n",
        "      y_pred = torch.argmax(softmax).item()\n",
        "      y_target = test_ys[i]\n",
        "      total += 1\n",
        "      if y_pred == y_target:\n",
        "          correct += 1\n",
        "\n",
        "      y_target = torch.tensor(y_target).to(device)\n",
        "      loss = criterion(softmax, y_target)\n",
        "      losses.append(loss)\n",
        "\n",
        "    mean_loss = torch.stack(losses).mean().item()\n",
        "    accuracy = (correct / total) * 100\n",
        "\n",
        "  return mean_loss, accuracy\n"
      ],
      "metadata": {
        "id": "qp1mFlqbyLpY"
      }
    },
    {
      "cell_type": "code",
      "source": [
        "# define objects to hold losses and accuracies\n",
        "epoch_losses = []\n",
        "accuracies = []\n",
        "epoch_losses_test = []\n",
        "accuracies_test = []"
      ],
      "metadata": {
        "id": "3oUnc27vNg7p"
      },
      "execution_count": null,
      "outputs": []
    },
    {
      "cell_type": "code",
      "execution_count": null,
      "outputs": [],
      "source": [
        "# This is the main training loop\n",
        "for epoch in range(NBR_OF_EPOCHS):\n",
        "  kvmm.train()\n",
        "  losses = []\n",
        "  name_index = 0\n",
        "  correct = 0\n",
        "  total = 0\n",
        "  for i in range(len(train_mhv)):\n",
        "      output = kvmm(train_mhv[i][0], train_mhv[i][1], train_mhv[i][2])\n",
        "      y = kvmm.linear_b(train_mhv[i][3])\n",
        "      ip = torch.inner(y, output)\n",
        "      softmax = F.softmax(ip, dim=0)\n",
        "\n",
        "      y_pred = torch.argmax(softmax).item()\n",
        "      y_target = train_ys[i]\n",
        "      total += 1\n",
        "      if y_pred == y_target:\n",
        "          correct += 1\n",
        "\n",
        "      y_target = torch.tensor(y_target).to(device)\n",
        "\n",
        "      loss = criterion(ip, y_target)\n",
        "      losses.append(loss)\n",
        "      optimizer.zero_grad()\n",
        "      loss.backward()\n",
        "      optimizer.step()\n",
        "\n",
        "  epoch_losses.append(torch.stack(losses).mean().item())\n",
        "  accuracies.append(correct / total * 100)\n",
        "\n",
        "  epoch_loss_test, epoch_accuracy_test = run_testing(kvmm)\n",
        "  epoch_losses_test.append(epoch_loss_test)\n",
        "  accuracies_test.append(epoch_accuracy_test)\n",
        "  print(f'{epoch}  {epoch_losses[-1]}  {accuracies[-1]}  {accuracies_test[-1]}')\n",
        "\n",
        "print(f'Starting loss: {round(epoch_losses[0], 2)}')\n",
        "print(f'Ending loss: {round(epoch_losses[-1], 2)}')\n",
        "print(f'Starting accuracy: {round(accuracies[0], 2)}')\n",
        "print(f'Ending accuracy: {round(accuracies[-1], 2)}')\n",
        "print(f'Starting test loss: {round(epoch_losses_test[0], 2)}')\n",
        "print(f'Ending test loss: {round(epoch_losses_test[-1], 2)}')\n",
        "print(f'Starting test accuracy: {round(accuracies_test[0], 2)}')\n",
        "print(f'Ending test accuracy: {round(accuracies_test[-1], 2)}')\n",
        "print(f'**************')\n"
      ],
      "metadata": {
        "id": "yo9ci0RByLpY"
      }
    },
    {
      "cell_type": "code",
      "source": [
        "def plot():\n",
        "  fig, (ax1, ax3) = plt.subplots(1, 2, figsize=(15, 5))\n",
        "\n",
        "  x = np.arange(NBR_OF_EPOCHS)\n",
        "  ax1.plot(x, epoch_losses, label='Loss', color='blue')\n",
        "  ax1.set_title('Loss and Accuracy - Training', fontweight='bold')\n",
        "  ax1.set_xlabel('Epochs --->', fontweight='bold')\n",
        "  ax1.set_ylabel('<--- Loss', color='b', fontweight='bold')\n",
        "  ax1.tick_params(axis='y', labelcolor='b')\n",
        "  ax2 = ax1.twinx()\n",
        "  ax2.plot(x, accuracies, label='Accuracy --->', color='orange')\n",
        "  ax2.set_ylabel('Accuracy (%) --->', color='orange', fontweight='bold')\n",
        "  ax2.tick_params(axis='y', labelcolor='orange')\n",
        "\n",
        "  ax3.plot(x, epoch_losses_test, label='Loss --->', color='blue')\n",
        "  ax3.set_title('Loss and Accuracy - Test', fontweight='bold')\n",
        "  ax3.set_xlabel('Epochs --->', fontweight='bold')\n",
        "  ax3.set_ylabel('<--- Loss', color='b', fontweight='bold')\n",
        "  ax4 = ax3.twinx()\n",
        "  ax4.plot(x, accuracies_test, label='Accuracy --->', color='orange')\n",
        "  ax4.set_ylabel('Accuracy (%) --->', color='orange', fontweight='bold')\n",
        "  ax4.tick_params(axis='y', labelcolor='orange')\n",
        "\n",
        "  plt.subplots_adjust(wspace=0.3)\n",
        "  plt.show()\n",
        "\n",
        "plot()"
      ],
      "metadata": {
        "id": "L_E2d6ZMOESo"
      },
      "execution_count": null,
      "outputs": []
    },
    {
      "cell_type": "markdown",
      "metadata": {
        "id": "7g5uXKRAgDjD"
      },
      "source": [
        "**Code for testing your model on the test data**\n",
        "\n",
        "The training loop will call the testing loop. But we do one last test on the model after training completes."
      ]
    },
    {
      "cell_type": "code",
      "source": [
        "# Runs a Final Test after all training has been complete\n",
        "loss, accuracy = run_testing(kvmm)\n",
        "print(f'Final Test Loss and Accuracy: {loss}, {accuracy}')"
      ],
      "metadata": {
        "id": "ecGNHCNhTGxK",
        "colab": {
          "base_uri": "https://localhost:8080/"
        },
        "outputId": "3139988c-21a2-4761-f2e1-c1f4da9f0949"
      },
      "execution_count": null,
      "outputs": [
        {
          "output_type": "stream",
          "name": "stdout",
          "text": [
            "Final Test Loss and Accuracy: 3.8788819313049316, 65.36412078152753\n"
          ]
        }
      ]
    },
    {
      "cell_type": "markdown",
      "source": [
        "Once we have a model that has decent accuracy, save it to Google Drive so it can be loaded when required going forward."
      ],
      "metadata": {
        "id": "fSfTnmWbf0Pr"
      }
    },
    {
      "cell_type": "code",
      "source": [
        "torch.save(kvmm.state_dict, 'kvmm_state_dict.pth')"
      ],
      "metadata": {
        "id": "sXfNjH0ECPTv"
      },
      "execution_count": null,
      "outputs": []
    },
    {
      "cell_type": "code",
      "source": [
        "model = torch.load('kvmm_state_dict.pth')"
      ],
      "metadata": {
        "id": "FznA-ZCzDBPP"
      },
      "execution_count": null,
      "outputs": []
    },
    {
      "cell_type": "markdown",
      "metadata": {
        "id": "lRCn-LZmMNCp"
      },
      "source": [
        "# Using the Model\n",
        "\n",
        "Given a question in natural language, turn it into a bag of words and feed it into the model with a set of plausible keys and values. Apply the output feature embedding to the full set of values and pick the value with argmax. Return the actual text inside that value (not the bag of words or embedding).\n",
        "\n",
        "That is, given a natural language question, we create the $q$ and pick a relevant subset of $k$ and $v$. Run the $q$, $k$, and $v$ through the model and get an answer to the original question.\n",
        "\n",
        "For example a question might be \"When was Alexander Hamilton born?\" The first step is to extract the entity and the relation."
      ]
    },
    {
      "cell_type": "markdown",
      "source": [
        "To process a question and find the entity and the relation, the [SpaCY](https://spacy.io/) package is used here."
      ],
      "metadata": {
        "id": "yiRYRlRhfFUG"
      }
    },
    {
      "cell_type": "code",
      "source": [
        "!pip install spacy\n",
        "\n",
        "!python -m spacy download en_core_web_sm"
      ],
      "metadata": {
        "id": "PlYC1hVv24VO"
      },
      "execution_count": null,
      "outputs": []
    },
    {
      "cell_type": "code",
      "source": [
        "import spacy\n",
        "spcy = spacy.load('en_core_web_sm')"
      ],
      "metadata": {
        "id": "VSbzkDXTIHo8"
      },
      "execution_count": null,
      "outputs": []
    },
    {
      "cell_type": "markdown",
      "source": [
        "**Create a function for using the `KVMemNet` to answer a given question.**\n",
        "\n",
        "The function should take in the question, data, model, and any other parameters you need. The function should return a text string."
      ],
      "metadata": {
        "id": "KGSewc7jeaj1"
      }
    },
    {
      "cell_type": "code",
      "source": [
        "db = load_DB()"
      ],
      "metadata": {
        "id": "MhNuzqAjyrRW"
      },
      "execution_count": null,
      "outputs": []
    },
    {
      "cell_type": "code",
      "source": [
        "def get_entity(txt):\n",
        "  return spcy(txt).ents[0].text"
      ],
      "metadata": {
        "id": "xwBLxwVlImht"
      },
      "execution_count": null,
      "outputs": []
    },
    {
      "cell_type": "code",
      "source": [
        "def answer_question(model, question, vocab, db, train_keys, test_keys):\n",
        "  answer = \"\"\n",
        "\n",
        "  n = get_entity(question)\n",
        "\n",
        "  tokens_ = tokenize(n)\n",
        "  n = \" \".join(tokens_)\n",
        "  person = db[n]\n",
        "  orig_keys, person_keys, person_values = extract_keys_values((n, person))\n",
        "\n",
        "  x = torch.tensor(multihot(question, vocab), dtype=torch.float32).to(device)\n",
        "  random_keys, random_values = get_random_keys_values(db, from_keys=train_keys, n=2)\n",
        "\n",
        "  k = []\n",
        "  v = []\n",
        "  k.extend(person_keys)\n",
        "  k.extend(random_keys)\n",
        "\n",
        "  v.extend(person_values)\n",
        "  v.extend(random_values)\n",
        "\n",
        "  Y = v.copy()\n",
        "\n",
        "  keys = make_multihot_for_list(k, vocab)\n",
        "  values = make_multihot_for_list(v, vocab)\n",
        "  Y_mhv = make_multihot_for_list(Y, vocab)\n",
        "\n",
        "  model.eval()\n",
        "  with torch.no_grad():\n",
        "      output = model(x, keys, values)\n",
        "      y = model.linear_b(Y_mhv)\n",
        "      ip = torch.inner(y, output)\n",
        "      softmax = F.softmax(ip, dim=0)\n",
        "      y_pred = torch.argmax(softmax).item()\n",
        "      answer = Y[y_pred]\n",
        "\n",
        "  return answer\n"
      ],
      "metadata": {
        "id": "iByiZMCbzUkV"
      },
      "execution_count": null,
      "outputs": []
    },
    {
      "cell_type": "code",
      "execution_count": null,
      "metadata": {
        "id": "JQLNvGsfm3b3",
        "colab": {
          "base_uri": "https://localhost:8080/"
        },
        "outputId": "27e14439-0fca-4e9b-c845-7fc0586a4c73"
      },
      "outputs": [
        {
          "output_type": "stream",
          "name": "stdout",
          "text": [
            "11 january 1755\n"
          ]
        }
      ],
      "source": [
        "question = \"When was Alexander Hamilton born\"\n",
        "print(answer_question(kvmm, question, vocab_, db, train_keys, test_keys))"
      ]
    },
    {
      "cell_type": "markdown",
      "source": [
        "# Testing\n",
        "Since a reduced vocabulary was used, the model can mostly only answer questions about people present in its vocabulary. The following examples show questions being answered correctly about a person who is known to be present in the vocabulary."
      ],
      "metadata": {
        "id": "uv-yC4MtPVNI"
      }
    },
    {
      "cell_type": "code",
      "source": [
        "question = \"When was Alexander Hamilton born?\"\n",
        "print(answer_question(kvmm, question, vocab_, db, train_keys, test_keys))"
      ],
      "metadata": {
        "colab": {
          "base_uri": "https://localhost:8080/"
        },
        "id": "7IyanDPhPcc-",
        "outputId": "b7679b0d-1a3c-4572-b847-76941eed345f"
      },
      "execution_count": null,
      "outputs": [
        {
          "output_type": "stream",
          "name": "stdout",
          "text": [
            "11 january 1755\n"
          ]
        }
      ]
    },
    {
      "cell_type": "code",
      "source": [
        "question = \"What party was Alexander Hamilton?\"\n",
        "print(answer_question(kvmm, question, vocab_, db, train_keys, test_keys))"
      ],
      "metadata": {
        "colab": {
          "base_uri": "https://localhost:8080/"
        },
        "id": "Xj52X96wP2au",
        "outputId": "0f7d1fa5-32a1-48be-9661-56289c437a23"
      },
      "execution_count": null,
      "outputs": [
        {
          "output_type": "stream",
          "name": "stdout",
          "text": [
            "federalist\n"
          ]
        }
      ]
    },
    {
      "cell_type": "code",
      "source": [
        "question = \"What office does Alexander Hamilton hold\"\n",
        "print(answer_question(kvmm, question, vocab_, db, train_keys, test_keys))"
      ],
      "metadata": {
        "colab": {
          "base_uri": "https://localhost:8080/"
        },
        "id": "Oilyw9OdQDGV",
        "outputId": "ec66c88a-b345-458c-93ff-aacbdf950c54"
      },
      "execution_count": null,
      "outputs": [
        {
          "output_type": "stream",
          "name": "stdout",
          "text": [
            "1st united states secretary of the treasury senior officer of the army delegate to the congress of the confederation from new york\n"
          ]
        }
      ]
    },
    {
      "cell_type": "markdown",
      "source": [
        "The above examples contained both an entity that was known to be present in the vocabulary and a question template that was used for training."
      ],
      "metadata": {
        "id": "t_2zgihjQKPy"
      }
    },
    {
      "cell_type": "markdown",
      "source": [
        "The model was also able to answer questions that did not match the template, if at least the relation (key) was part of the question as shown in the example below. Note that although the template was not used, and further, the order of words was not correct, the model was still able to answer correctly."
      ],
      "metadata": {
        "id": "HV2rOXzZQw_-"
      }
    },
    {
      "cell_type": "code",
      "source": [
        "question = \"Alexander Hamilton office\"\n",
        "print(answer_question(kvmm, question, vocab_, db, train_keys, test_keys))"
      ],
      "metadata": {
        "colab": {
          "base_uri": "https://localhost:8080/"
        },
        "id": "i3PXbWtrQiDE",
        "outputId": "f2f8b564-fa90-4433-ef43-20d44abde340"
      },
      "execution_count": null,
      "outputs": [
        {
          "output_type": "stream",
          "name": "stdout",
          "text": [
            "1st united states secretary of the treasury senior officer of the army delegate to the congress of the confederation from new york\n"
          ]
        }
      ]
    },
    {
      "cell_type": "markdown",
      "source": [
        "However, it was not able to handle questions where the relation (key) was not part of the question, as shown in the example below. This indicates that although the model is able to narrow down to **Alexander Hamilton**, it's not able to correctly select the correct \"key\" since \"**office**\" was not part of the question. So, the model was unable to relate \"**official position**\" to the key \"**office**\". This also highlights the importance of generating and training the model with as many templates as possible. In this case, this particular template was not part of the training (the number of templates used for model training were limited due to memory constraints).\n"
      ],
      "metadata": {
        "id": "PrGBS5gSRYce"
      }
    },
    {
      "cell_type": "code",
      "source": [
        "question = \"What is the official position of Alexander Hamilton?\"\n",
        "print(answer_question(kvmm, question, vocab_, db, train_keys, test_keys))"
      ],
      "metadata": {
        "colab": {
          "base_uri": "https://localhost:8080/"
        },
        "id": "Ae_uWLCiRkBA",
        "outputId": "630946a5-477b-4066-ec0b-bf7b6a47653c"
      },
      "execution_count": null,
      "outputs": [
        {
          "output_type": "stream",
          "name": "stdout",
          "text": [
            "alexander hamilton\n"
          ]
        }
      ]
    },
    {
      "cell_type": "markdown",
      "source": [
        "Another observation was that there was some randomness in the model's answering of questions even in the presence of the correct key in question. For example, when the below question was asked 10 times, the model was able to answer correctly at a **95%** success rate. However, for less than **5%** of the time, it produced a wrong answer. The hypothesis is that when the subset of keys/values were provided to the model for answering, some random records (2 people in this implementation) were added to that person's keys, and that perhaps the answers reflected the information of those random people."
      ],
      "metadata": {
        "id": "RhY1D_mqSAe7"
      }
    },
    {
      "cell_type": "code",
      "source": [
        "for i in range(20):\n",
        "  question = \"Who is the spouse of Alexander Hamilton?\"\n",
        "  print(answer_question(kvmm, question, vocab_, db, train_keys, test_keys))\n",
        "\n",
        "# Note below it produced a wrong answer (elizabeth witmer) in 1 out of 20 attempts"
      ],
      "metadata": {
        "colab": {
          "base_uri": "https://localhost:8080/"
        },
        "id": "Q7bVWBZeSUJm",
        "outputId": "e67d4f66-1bb2-46c6-f8f5-4d44807fc4ff"
      },
      "execution_count": null,
      "outputs": [
        {
          "output_type": "stream",
          "name": "stdout",
          "text": [
            "elizabeth schuyler\n",
            "elizabeth schuyler\n",
            "elizabeth schuyler\n",
            "elizabeth schuyler\n",
            "elizabeth schuyler\n",
            "elizabeth schuyler\n",
            "elizabeth schuyler\n",
            "elizabeth schuyler\n",
            "elizabeth witmer\n",
            "elizabeth schuyler\n",
            "elizabeth schuyler\n",
            "elizabeth schuyler\n",
            "elizabeth schuyler\n",
            "elizabeth schuyler\n",
            "elizabeth schuyler\n",
            "elizabeth schuyler\n",
            "elizabeth schuyler\n",
            "elizabeth schuyler\n",
            "elizabeth schuyler\n",
            "elizabeth schuyler\n"
          ]
        }
      ]
    },
    {
      "cell_type": "markdown",
      "source": [
        "# Analysis"
      ],
      "metadata": {
        "id": "N27-OtrzpT-u"
      }
    },
    {
      "cell_type": "markdown",
      "source": [
        "One of the most significant design decisions for training the model on real data was the choice of keys and values used for training as this impacted not only the amount of training samples, but also the quality of training data.For the first part of the network (A), keys and values sent through the network's forward function were based on that person's entries in the database, plus the entries of a few random people.\n",
        "\n",
        "For data selection for \"Y\" (in the second part of the network), the approach used was to select at least the values being sent in the first part of the network through the model plus a few more random values. Here, one other data selection approach considered. Rather than only a subset of values, the thought was to select the full training/testing dataset values. The motivation was that training the model on the entire values in the database would allow it to learn parameters to better generalize to answer real world queries. In other words, teach the model the ability to select the correct answer from a larger data (values) pool. This approach was initially attempted, however memory consumption proved prohibitive. Therefore, the solution was reverted back to the original approach.\n",
        "\n",
        "In hindsight, sending the full dataset without imposing large memory requirements could likely have been achieved by a better algorithm for memory management. For example, the current implementation explicitly and independently constructs the full multihot vectors (q, k, v, Y) necessary for each sample. Therefore, using the full training values for Y for each sample required too much memory. However, with a better algorithm, the multihot tensor for Y could have been constructed once and reused for each sample (since with this approach, Y remains the same for each sample).This was a huge lesson learnt and a definite scope for future improvement.\n",
        "\n",
        "Initial training results from the model produced reasonable results with the model exhibiting good learning ability, producing expected loss and accuracy curves. While training accuracy was high (**>90%**), testing accuracy was around **50%**. This indicated a certain degree of overfitting. It is hypothesized that this is likely because of the design decision to limit the amount of \"Y\" data that's sent through the network that constrained its ability to generalize.\n",
        "\n",
        "To address overfitting, another experiment was conducted where dropout layers were added to q, k and v with a dropout probability of 0.5. The intuition was that dropout layers introduce noise during training, which forces the model to learn to be more robust and reduce reliance on certain nodes in the network. The results were quite dramatic. While training accuracy reduced slightly to around 88%, the more significant result was the sharp increase in testing accuracy to about **65%**, indicating significant reduction in overfitting. The loss and accuracy curves with this model are shown below.\n",
        "\n",
        "A final experiment was then conducted to assess the impact of providing the network with more templated relation samples (i.e., increased templates per question), but correspondingly reducing the overall number of persons. The idea was to see if it was better to provide data for more unique persons (and less templates), or less persons but more templates for each person. The hypothesis was that the former would be more beneficial from the perspective of a model's  ability to generalize. The results confirmed the hypothesis. With no other parameter changes, and retaining the dropout layers, while the training accuracies achieved were the same (**~89%**), the testing accuracy was down to about **50%**. This is a clear indication that more diverse data (unique persons) would help learn a more generalizable model.\n",
        "\n",
        "The tradeoff though is that the model with more templated samples would be able to answer a wider variety of questions.\n"
      ],
      "metadata": {
        "id": "PT_9MtT2uQ7I"
      }
    },
    {
      "cell_type": "code",
      "source": [
        "plot()"
      ],
      "metadata": {
        "colab": {
          "base_uri": "https://localhost:8080/",
          "height": 421
        },
        "outputId": "644c086f-7aa9-4906-9192-3d8caeec8b9e",
        "id": "9JzEEgY15cGy"
      },
      "execution_count": null,
      "outputs": [
        {
          "output_type": "display_data",
          "data": {
            "text/plain": [
              "<Figure size 1500x500 with 4 Axes>"
            ],
            "image/png": "[encoded data removed]"
          },
          "metadata": {}
        }
      ]
    },
    {
      "cell_type": "markdown",
      "source": [
        "# References\n",
        "\n",
        "1. Miller, A., Fisch, A., Dodge, J., Karimi, A.-H., Bordes, A., & Weston, J. (2016). Key-Value Memory Networks for Directly Reading Documents. In Proceedings of the 2016 Conference on Empirical Methods in Natural Language Processing (pp. 1400–1409). Association for Computational Linguistics. https://doi.org/10.18653/v1/D16-1147\n",
        "\n",
        "2. Dr. Reidl, M Georgia Institutre of Technology OMSCS Lecture Notes\n",
        "CS7650 Summer 2024\n",
        "\n",
        "3. Dr. Reidl, M Georgia Institutre of Technology OMSCS CS7650 Summer 2024 Project 5 Key-Value Memory Networks"
      ],
      "metadata": {
        "id": "pw_clEc95y6G"
      }
    }
  ],
  "metadata": {
    "colab": {
      "provenance": [],
      "collapsed_sections": [
        "XLQP14bxNXDx",
        "Sl6J8BwVpHCw",
        "YHZm-bAanrrf",
        "Y9AP3Dcle5VC",
        "lzlH6IKhe_Qa",
        "vcZcFUxrfCnB",
        "ITACHJTWfE5m",
        "nupd-Gr9P6vc",
        "lRCn-LZmMNCp"
      ]
    },
    "kernelspec": {
      "display_name": "Python 3",
      "name": "python3"
    },
    "language_info": {
      "name": "python"
    }
  },
  "nbformat": 4,
  "nbformat_minor": 0
}